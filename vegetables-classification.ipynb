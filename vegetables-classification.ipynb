{
 "cells": [
  {
   "cell_type": "code",
   "execution_count": 1,
   "id": "cd76f214",
   "metadata": {
    "_cell_guid": "b1076dfc-b9ad-4769-8c92-a6c4dae69d19",
    "_uuid": "8f2839f25d086af736a60e9eeb907d3b93b6e0e5",
    "execution": {
     "iopub.execute_input": "2023-01-03T12:12:59.946259Z",
     "iopub.status.busy": "2023-01-03T12:12:59.945542Z",
     "iopub.status.idle": "2023-01-03T12:12:59.964102Z",
     "shell.execute_reply": "2023-01-03T12:12:59.962937Z"
    },
    "papermill": {
     "duration": 0.027208,
     "end_time": "2023-01-03T12:12:59.967255",
     "exception": false,
     "start_time": "2023-01-03T12:12:59.940047",
     "status": "completed"
    },
    "tags": []
   },
   "outputs": [
    {
     "name": "stdout",
     "output_type": "stream",
     "text": [
      "['validation', 'test', 'train']\n"
     ]
    }
   ],
   "source": [
    "# This Python 3 environment comes with many helpful analytics libraries installed\n",
    "# It is defined by the kaggle/python Docker image: https://github.com/kaggle/docker-python\n",
    "# For example, here's several helpful packages to load\n",
    "\n",
    "import numpy as np # linear algebra\n",
    "import pandas as pd # data processing, CSV file I/O (e.g. pd.read_csv)\n",
    "\n",
    "# Input data files are available in the read-only \"../input/\" directory\n",
    "# For example, running this (by clicking run or pressing Shift+Enter) will list all files under the input directory\n",
    "\n",
    "import os\n",
    "print(os.listdir('../input/vegetable-image-dataset/Vegetable Images'))\n",
    "\n",
    "# You can write up to 20GB to the current directory (/kaggle/working/) that gets preserved as output when you create a version using \"Save & Run All\" \n",
    "# You can also write temporary files to /kaggle/temp/, but they won't be saved outside of the current session"
   ]
  },
  {
   "cell_type": "code",
   "execution_count": 2,
   "id": "a6fe3a68",
   "metadata": {
    "execution": {
     "iopub.execute_input": "2023-01-03T12:12:59.975479Z",
     "iopub.status.busy": "2023-01-03T12:12:59.975089Z",
     "iopub.status.idle": "2023-01-03T12:13:04.838453Z",
     "shell.execute_reply": "2023-01-03T12:13:04.837332Z"
    },
    "papermill": {
     "duration": 4.870161,
     "end_time": "2023-01-03T12:13:04.841194",
     "exception": false,
     "start_time": "2023-01-03T12:12:59.971033",
     "status": "completed"
    },
    "tags": []
   },
   "outputs": [],
   "source": [
    "import tensorflow as tf"
   ]
  },
  {
   "cell_type": "code",
   "execution_count": 3,
   "id": "91c4ae50",
   "metadata": {
    "execution": {
     "iopub.execute_input": "2023-01-03T12:13:04.848875Z",
     "iopub.status.busy": "2023-01-03T12:13:04.848247Z",
     "iopub.status.idle": "2023-01-03T12:13:07.966035Z",
     "shell.execute_reply": "2023-01-03T12:13:07.964925Z"
    },
    "papermill": {
     "duration": 3.124729,
     "end_time": "2023-01-03T12:13:07.968968",
     "exception": false,
     "start_time": "2023-01-03T12:13:04.844239",
     "status": "completed"
    },
    "tags": []
   },
   "outputs": [
    {
     "name": "stdout",
     "output_type": "stream",
     "text": [
      "Found 15000 files belonging to 15 classes.\n"
     ]
    },
    {
     "name": "stderr",
     "output_type": "stream",
     "text": [
      "2023-01-03 12:13:07.089574: I tensorflow/core/common_runtime/process_util.cc:146] Creating new thread pool with default inter op setting: 2. Tune using inter_op_parallelism_threads for best performance.\n"
     ]
    },
    {
     "name": "stdout",
     "output_type": "stream",
     "text": [
      "Found 3000 files belonging to 15 classes.\n",
      "Found 3000 files belonging to 15 classes.\n"
     ]
    }
   ],
   "source": [
    "train_path = '../input/vegetable-image-dataset/Vegetable Images/train'\n",
    "validation_path = '../input/vegetable-image-dataset/Vegetable Images/validation'\n",
    "test_path = '../input/vegetable-image-dataset/Vegetable Images/test'\n",
    "\n",
    "train_data = tf.keras.utils.image_dataset_from_directory(train_path)\n",
    "validation_data = tf.keras.utils.image_dataset_from_directory(validation_path)\n",
    "test_data = tf.keras.utils.image_dataset_from_directory(test_path)"
   ]
  },
  {
   "cell_type": "code",
   "execution_count": 4,
   "id": "4ae55216",
   "metadata": {
    "execution": {
     "iopub.execute_input": "2023-01-03T12:13:07.977424Z",
     "iopub.status.busy": "2023-01-03T12:13:07.977062Z",
     "iopub.status.idle": "2023-01-03T12:13:07.982434Z",
     "shell.execute_reply": "2023-01-03T12:13:07.981318Z"
    },
    "papermill": {
     "duration": 0.012117,
     "end_time": "2023-01-03T12:13:07.985007",
     "exception": false,
     "start_time": "2023-01-03T12:13:07.972890",
     "status": "completed"
    },
    "tags": []
   },
   "outputs": [
    {
     "name": "stdout",
     "output_type": "stream",
     "text": [
      "['Bean', 'Bitter_Gourd', 'Bottle_Gourd', 'Brinjal', 'Broccoli', 'Cabbage', 'Capsicum', 'Carrot', 'Cauliflower', 'Cucumber', 'Papaya', 'Potato', 'Pumpkin', 'Radish', 'Tomato']\n"
     ]
    }
   ],
   "source": [
    "veg_names = train_data.class_names\n",
    "print(veg_names)"
   ]
  },
  {
   "cell_type": "code",
   "execution_count": 5,
   "id": "8f013a88",
   "metadata": {
    "execution": {
     "iopub.execute_input": "2023-01-03T12:13:07.992680Z",
     "iopub.status.busy": "2023-01-03T12:13:07.992061Z",
     "iopub.status.idle": "2023-01-03T12:13:08.001800Z",
     "shell.execute_reply": "2023-01-03T12:13:08.000696Z"
    },
    "papermill": {
     "duration": 0.01592,
     "end_time": "2023-01-03T12:13:08.003955",
     "exception": false,
     "start_time": "2023-01-03T12:13:07.988035",
     "status": "completed"
    },
    "tags": []
   },
   "outputs": [
    {
     "data": {
      "text/plain": [
       "<BatchDataset shapes: ((None, 256, 256, 3), (None,)), types: (tf.float32, tf.int32)>"
      ]
     },
     "execution_count": 5,
     "metadata": {},
     "output_type": "execute_result"
    }
   ],
   "source": [
    "train_data"
   ]
  },
  {
   "cell_type": "code",
   "execution_count": 6,
   "id": "af62447f",
   "metadata": {
    "execution": {
     "iopub.execute_input": "2023-01-03T12:13:08.011990Z",
     "iopub.status.busy": "2023-01-03T12:13:08.011347Z",
     "iopub.status.idle": "2023-01-03T12:13:08.017712Z",
     "shell.execute_reply": "2023-01-03T12:13:08.016907Z"
    },
    "papermill": {
     "duration": 0.012621,
     "end_time": "2023-01-03T12:13:08.019689",
     "exception": false,
     "start_time": "2023-01-03T12:13:08.007068",
     "status": "completed"
    },
    "tags": []
   },
   "outputs": [
    {
     "data": {
      "text/plain": [
       "<BatchDataset shapes: ((None, 256, 256, 3), (None,)), types: (tf.float32, tf.int32)>"
      ]
     },
     "execution_count": 6,
     "metadata": {},
     "output_type": "execute_result"
    }
   ],
   "source": [
    "validation_data"
   ]
  },
  {
   "cell_type": "code",
   "execution_count": 7,
   "id": "74708e9d",
   "metadata": {
    "execution": {
     "iopub.execute_input": "2023-01-03T12:13:08.027713Z",
     "iopub.status.busy": "2023-01-03T12:13:08.027151Z",
     "iopub.status.idle": "2023-01-03T12:13:08.033460Z",
     "shell.execute_reply": "2023-01-03T12:13:08.032663Z"
    },
    "papermill": {
     "duration": 0.012566,
     "end_time": "2023-01-03T12:13:08.035437",
     "exception": false,
     "start_time": "2023-01-03T12:13:08.022871",
     "status": "completed"
    },
    "tags": []
   },
   "outputs": [
    {
     "data": {
      "text/plain": [
       "<BatchDataset shapes: ((None, 256, 256, 3), (None,)), types: (tf.float32, tf.int32)>"
      ]
     },
     "execution_count": 7,
     "metadata": {},
     "output_type": "execute_result"
    }
   ],
   "source": [
    "test_data"
   ]
  },
  {
   "cell_type": "code",
   "execution_count": null,
   "id": "8d23b928",
   "metadata": {
    "papermill": {
     "duration": 0.003044,
     "end_time": "2023-01-03T12:13:08.041734",
     "exception": false,
     "start_time": "2023-01-03T12:13:08.038690",
     "status": "completed"
    },
    "tags": []
   },
   "outputs": [],
   "source": []
  }
 ],
 "metadata": {
  "kernelspec": {
   "display_name": "Python 3",
   "language": "python",
   "name": "python3"
  },
  "language_info": {
   "codemirror_mode": {
    "name": "ipython",
    "version": 3
   },
   "file_extension": ".py",
   "mimetype": "text/x-python",
   "name": "python",
   "nbconvert_exporter": "python",
   "pygments_lexer": "ipython3",
   "version": "3.7.12"
  },
  "papermill": {
   "default_parameters": {},
   "duration": 19.081523,
   "end_time": "2023-01-03T12:13:10.919222",
   "environment_variables": {},
   "exception": null,
   "input_path": "__notebook__.ipynb",
   "output_path": "__notebook__.ipynb",
   "parameters": {},
   "start_time": "2023-01-03T12:12:51.837699",
   "version": "2.3.4"
  }
 },
 "nbformat": 4,
 "nbformat_minor": 5
}
